{
 "cells": [
  {
   "cell_type": "markdown",
   "metadata": {},
   "source": [
    "# Capstone Project Week 1"
   ]
  },
  {
   "cell_type": "markdown",
   "metadata": {},
   "source": [
    "## Business Problem\n",
    "\n",
    "A customer is looking to open a Chinese restaurant in Toronoto, but can not decide on which neighborhood is best suited for this. The objective of this project is to help this customer determine which neighborhood has the best potential for starting a Chinese restaurant.\n",
    "\n",
    "\n",
    "## Data\n",
    "The data required for this problem are:\n",
    "<ul>\n",
    "    <li> Neighborhood centers in Toronto</li>\n",
    "    <li> Food places in various neighborhood in Toronto</li>\n",
    "    <li> Other venues in various neighborhood in Toronto</li>\n",
    "</ul>\n",
    "\n",
    "Food places and other venues are searched for within 500m from the various neighborhood centers in Toronoto\n",
    "    \n",
    "The following data sources are to ge the data required for this project\n",
    "<ul>\n",
    "    <li> Wikipedia Page on Toronto Neighborhoods </li>\n",
    "    <li> Pre-existing dataset to obtain Toronto Neighborhood geo-location data (latitude ands longitudes </li>\n",
    "    <li> Foursquare API to obtain venue data </li>\n",
    "</ul>\n",
    "    "
   ]
  },
  {
   "cell_type": "code",
   "execution_count": null,
   "metadata": {},
   "outputs": [],
   "source": []
  }
 ],
 "metadata": {
  "kernelspec": {
   "display_name": "Python 3",
   "language": "python",
   "name": "python3"
  },
  "language_info": {
   "codemirror_mode": {
    "name": "ipython",
    "version": 3
   },
   "file_extension": ".py",
   "mimetype": "text/x-python",
   "name": "python",
   "nbconvert_exporter": "python",
   "pygments_lexer": "ipython3",
   "version": "3.7.6"
  }
 },
 "nbformat": 4,
 "nbformat_minor": 4
}
